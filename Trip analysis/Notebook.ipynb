uploaded notebook for complete analysis of drivers trip to profide performance.
